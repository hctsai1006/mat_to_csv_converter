# 匯入 lib、package 之類的
import os
import glob
import re  # 匯入正則表示式模組
from scipy.io import loadmat
import pandas as pd
from google.colab import drive
import numpy as np

# 掛接 Google Drive（colab 右方導航欄也可以手動掛接）
# drive.mount('/content/drive')

# 設定(.mat)檔的輸入和輸出 csv 資料夾的路徑
# 輸入資料夾路徑（在 Google Drive 中，放 .mat 檔的資料夾）
input_folder = '/content/drive/MyDrive/XXXXX/'  # 請依你的實際情況調整

# 輸出資料夾路徑（在 Google Drive 中，用來儲存轉換後的 CSV 檔的資料夾（注意：這行指令會新增一個名叫 "converted_csv" 資料夾喔！））
output_folder = '/content/drive/MyDrive/XXXXX/converted_csv'  # 請依你的實際情況調整

# 如果輸出資料夾不存在，就創建它
os.makedirs(output_folder, exist_ok=True)

# 獲取所有 .mat 檔的路徑
mat_files = glob.glob(os.path.join(input_folder, '*.mat'))

# 遍歷所有 .mat 檔
for mat_file in mat_files:
    # 載入 .mat 檔
    mat_data = loadmat(mat_file, struct_as_record=False, squeeze_me=True)

    # 獲取檔名（不包含副檔名），並直接使用檔名
    base_name = os.path.splitext(os.path.basename(mat_file))[0]

    # 提取資料變數（排除特殊鍵）
    variable_names = [key for key in mat_data.keys() if not key.startswith('__')]

    # 如果沒有找到變數，跳過該檔
    if not variable_names:
        print(f"檔案 {mat_file} 中沒有找到資料變數，已跳過。")
        continue

    # 遍歷所有變數
    for var_name in variable_names:
        data = mat_data[var_name]

        # 檢查資料型態並處理
        if isinstance(data, (np.ndarray, list)):
            # 如果資料是多維陣列，可能需要展平或重新塑形
            if isinstance(data, np.ndarray) and data.ndim > 2:
                data = data.reshape(data.shape[0], -1)

            # 轉換為 DataFrame
            df = pd.DataFrame(data)
        elif isinstance(data, (int, float, str)):
            # 如果資料是單個值，轉換為 DataFrame
            df = pd.DataFrame([data])
        else:
            # 如果資料是 structure（ MATLAB資料容器），可能需要特殊處理
            print(f"變數 {var_name} 是一個複雜的資料型態，可能需要手動處理。")
            continue

        # 使用原始檔名，改副檔名為 .csv
        output_file = f"{base_name}.csv"
        output_path = os.path.join(output_folder, output_file)

        # 儲存為 CSV 檔
        df.to_csv(output_path, index=False)

        print(f"已將變數 {var_name} 轉換為 {output_file}")

print("所有檔案已處理完成，轉換後的 CSV 檔儲存在以下路徑：")
print(output_folder)
